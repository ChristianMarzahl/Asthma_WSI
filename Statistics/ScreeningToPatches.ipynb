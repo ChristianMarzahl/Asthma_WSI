{
 "cells": [
  {
   "cell_type": "code",
   "execution_count": 1,
   "metadata": {},
   "outputs": [],
   "source": [
    "%reload_ext autoreload\n",
    "%autoreload 2\n",
    "%matplotlib inline"
   ]
  },
  {
   "cell_type": "code",
   "execution_count": 59,
   "metadata": {},
   "outputs": [],
   "source": [
    "from tqdm import tqdm\n",
    "import pandas as pd\n",
    "import numpy as np\n",
    "from pathlib import Path\n",
    "import pickle\n",
    "import openslide\n",
    "import cv2"
   ]
  },
  {
   "cell_type": "code",
   "execution_count": 60,
   "metadata": {},
   "outputs": [],
   "source": [
    "slides_val = list(set(['BAL Promyk Spray 4.svs',\n",
    "                        'BAL AIA Blickfang Luft.svs'\n",
    "                      ]))\n",
    "\n",
    "slides_train = list(set(['BAL 1 Spray 2.svs', \n",
    "                         'BAL Booker Spray 3.svs',\n",
    "                         'BAL Bubi Spray 1.svs', \n",
    "                         'BAL cent blue Luft 2.svs']))\n",
    "\n",
    "labels = ['Mastzellen', \"Makrophagen\", \"Neutrophile\", \"Eosinophile\", \"Lymohozyten\"]"
   ]
  },
  {
   "cell_type": "code",
   "execution_count": 68,
   "metadata": {},
   "outputs": [],
   "source": [
    "annotations_path = Path(\"../Statistics/Asthma_Annotations.pkl\")\n",
    "annotations = pd.read_pickle(annotations_path)\n",
    "annotations = annotations[annotations[\"class\"].isin(labels)]\n",
    "annotations = annotations[annotations[\"deleted\"] == False]"
   ]
  },
  {
   "cell_type": "code",
   "execution_count": 69,
   "metadata": {},
   "outputs": [
    {
     "data": {
      "text/html": [
       "<div>\n",
       "<style scoped>\n",
       "    .dataframe tbody tr th:only-of-type {\n",
       "        vertical-align: middle;\n",
       "    }\n",
       "\n",
       "    .dataframe tbody tr th {\n",
       "        vertical-align: top;\n",
       "    }\n",
       "\n",
       "    .dataframe thead th {\n",
       "        text-align: right;\n",
       "    }\n",
       "</style>\n",
       "<table border=\"1\" class=\"dataframe\">\n",
       "  <thead>\n",
       "    <tr style=\"text-align: right;\">\n",
       "      <th></th>\n",
       "      <th>id</th>\n",
       "      <th>image_id</th>\n",
       "      <th>image_name</th>\n",
       "      <th>image_set</th>\n",
       "      <th>class</th>\n",
       "      <th>vector</th>\n",
       "      <th>unique_identifier</th>\n",
       "      <th>user_id</th>\n",
       "      <th>deleted</th>\n",
       "      <th>last_editor</th>\n",
       "      <th>center_x</th>\n",
       "      <th>center_y</th>\n",
       "    </tr>\n",
       "  </thead>\n",
       "  <tbody>\n",
       "    <tr>\n",
       "      <th>0</th>\n",
       "      <td>172441</td>\n",
       "      <td>221</td>\n",
       "      <td>BAL 1 Spray 2.svs</td>\n",
       "      <td>14</td>\n",
       "      <td>Makrophagen</td>\n",
       "      <td>{'x1': 13612, 'x2': 13666, 'y1': 12371, 'y2': ...</td>\n",
       "      <td>a268b46f-e13f-480e-b96d-c7900790ad5f</td>\n",
       "      <td>10</td>\n",
       "      <td>False</td>\n",
       "      <td>None</td>\n",
       "      <td>13639</td>\n",
       "      <td>12398</td>\n",
       "    </tr>\n",
       "    <tr>\n",
       "      <th>1</th>\n",
       "      <td>172442</td>\n",
       "      <td>221</td>\n",
       "      <td>BAL 1 Spray 2.svs</td>\n",
       "      <td>14</td>\n",
       "      <td>Makrophagen</td>\n",
       "      <td>{'x1': 13562, 'x2': 13618, 'y1': 12437, 'y2': ...</td>\n",
       "      <td>e8d67efd-0baf-4f78-ad73-b8f77422b826</td>\n",
       "      <td>10</td>\n",
       "      <td>False</td>\n",
       "      <td>None</td>\n",
       "      <td>13590</td>\n",
       "      <td>12465</td>\n",
       "    </tr>\n",
       "    <tr>\n",
       "      <th>2</th>\n",
       "      <td>172443</td>\n",
       "      <td>221</td>\n",
       "      <td>BAL 1 Spray 2.svs</td>\n",
       "      <td>14</td>\n",
       "      <td>Makrophagen</td>\n",
       "      <td>{'x1': 13482, 'x2': 13546, 'y1': 12458, 'y2': ...</td>\n",
       "      <td>55aa3d51-7f30-43a0-83ef-d9acc74d9a21</td>\n",
       "      <td>10</td>\n",
       "      <td>False</td>\n",
       "      <td>None</td>\n",
       "      <td>13514</td>\n",
       "      <td>12490</td>\n",
       "    </tr>\n",
       "    <tr>\n",
       "      <th>3</th>\n",
       "      <td>172444</td>\n",
       "      <td>221</td>\n",
       "      <td>BAL 1 Spray 2.svs</td>\n",
       "      <td>14</td>\n",
       "      <td>Makrophagen</td>\n",
       "      <td>{'x1': 13471, 'x2': 13533, 'y1': 12281, 'y2': ...</td>\n",
       "      <td>8f259e8f-119b-44de-8a90-2c53e7ee0e60</td>\n",
       "      <td>10</td>\n",
       "      <td>False</td>\n",
       "      <td>None</td>\n",
       "      <td>13502</td>\n",
       "      <td>12312</td>\n",
       "    </tr>\n",
       "    <tr>\n",
       "      <th>4</th>\n",
       "      <td>172446</td>\n",
       "      <td>221</td>\n",
       "      <td>BAL 1 Spray 2.svs</td>\n",
       "      <td>14</td>\n",
       "      <td>Makrophagen</td>\n",
       "      <td>{'x1': 13591, 'x2': 13673, 'y1': 12204, 'y2': ...</td>\n",
       "      <td>052b3f5a-f6f6-4b0d-a134-9f4797601dc4</td>\n",
       "      <td>10</td>\n",
       "      <td>False</td>\n",
       "      <td>None</td>\n",
       "      <td>13632</td>\n",
       "      <td>12245</td>\n",
       "    </tr>\n",
       "  </tbody>\n",
       "</table>\n",
       "</div>"
      ],
      "text/plain": [
       "       id  image_id         image_name  image_set        class  \\\n",
       "0  172441       221  BAL 1 Spray 2.svs         14  Makrophagen   \n",
       "1  172442       221  BAL 1 Spray 2.svs         14  Makrophagen   \n",
       "2  172443       221  BAL 1 Spray 2.svs         14  Makrophagen   \n",
       "3  172444       221  BAL 1 Spray 2.svs         14  Makrophagen   \n",
       "4  172446       221  BAL 1 Spray 2.svs         14  Makrophagen   \n",
       "\n",
       "                                              vector  \\\n",
       "0  {'x1': 13612, 'x2': 13666, 'y1': 12371, 'y2': ...   \n",
       "1  {'x1': 13562, 'x2': 13618, 'y1': 12437, 'y2': ...   \n",
       "2  {'x1': 13482, 'x2': 13546, 'y1': 12458, 'y2': ...   \n",
       "3  {'x1': 13471, 'x2': 13533, 'y1': 12281, 'y2': ...   \n",
       "4  {'x1': 13591, 'x2': 13673, 'y1': 12204, 'y2': ...   \n",
       "\n",
       "                      unique_identifier  user_id  deleted last_editor  \\\n",
       "0  a268b46f-e13f-480e-b96d-c7900790ad5f       10    False        None   \n",
       "1  e8d67efd-0baf-4f78-ad73-b8f77422b826       10    False        None   \n",
       "2  55aa3d51-7f30-43a0-83ef-d9acc74d9a21       10    False        None   \n",
       "3  8f259e8f-119b-44de-8a90-2c53e7ee0e60       10    False        None   \n",
       "4  052b3f5a-f6f6-4b0d-a134-9f4797601dc4       10    False        None   \n",
       "\n",
       "   center_x  center_y  \n",
       "0     13639     12398  \n",
       "1     13590     12465  \n",
       "2     13514     12490  \n",
       "3     13502     12312  \n",
       "4     13632     12245  "
      ]
     },
     "execution_count": 69,
     "metadata": {},
     "output_type": "execute_result"
    }
   ],
   "source": [
    "annotations[\"center_x\"] =  [int(vector[\"x1\"] + (vector[\"x2\"] - vector[\"x1\"]) / 2) for vector in annotations[\"vector\"]]\n",
    "annotations[\"center_y\"] =  [int(vector[\"y1\"] + (vector[\"y2\"] - vector[\"y1\"]) / 2) for vector in annotations[\"vector\"]]\n",
    "annotations.head()"
   ]
  },
  {
   "cell_type": "code",
   "execution_count": 70,
   "metadata": {},
   "outputs": [
    {
     "data": {
      "text/plain": [
       "{'BAL 1 Spray 2.svs': WindowsPath('../Slides/BAL 1 Spray 2.svs'),\n",
       " 'BAL AIA Blickfang Luft.svs': WindowsPath('../Slides/BAL AIA Blickfang Luft.svs'),\n",
       " 'BAL Booker Spray 3.svs': WindowsPath('../Slides/BAL Booker Spray 3.svs'),\n",
       " 'BAL Bubi Spray 1.svs': WindowsPath('../Slides/BAL Bubi Spray 1.svs'),\n",
       " 'BAL cent blue Luft 2.svs': WindowsPath('../Slides/BAL cent blue Luft 2.svs'),\n",
       " 'BAL Promyk Spray 4.svs': WindowsPath('../Slides/BAL Promyk Spray 4.svs')}"
      ]
     },
     "execution_count": 70,
     "metadata": {},
     "output_type": "execute_result"
    }
   ],
   "source": [
    "slides_path = Path(\"../Slides\")\n",
    "files = {slide.name: slide for slide in slides_path.rglob(\"*.svs\") if slide.name in slides_train + slides_val}\n",
    "files"
   ]
  },
  {
   "cell_type": "code",
   "execution_count": 71,
   "metadata": {},
   "outputs": [],
   "source": [
    "screening_path = Path('../Statistics/Screening.pickle') \n",
    "screening_modes = pd.read_pickle(screening_path)"
   ]
  },
  {
   "cell_type": "code",
   "execution_count": 72,
   "metadata": {},
   "outputs": [
    {
     "name": "stderr",
     "output_type": "stream",
     "text": [
      "100%|███████████████████████████████████████████████████████████████████████████████| 106/106 [00:00<00:00, 554.97it/s]\n",
      "100%|███████████████████████████████████████████████████████████████████████████████| 719/719 [00:01<00:00, 662.67it/s]\n",
      "100%|███████████████████████████████████████████████████████████████████████████████| 696/696 [00:00<00:00, 759.00it/s]\n",
      "100%|███████████████████████████████████████████████████████████████████████████████| 277/277 [00:00<00:00, 784.70it/s]\n",
      "100%|███████████████████████████████████████████████████████████████████████████████| 622/622 [00:00<00:00, 771.71it/s]\n",
      "100%|█████████████████████████████████████████████████████████████████████████████████| 20/20 [00:00<00:00, 625.02it/s]\n"
     ]
    },
    {
     "data": {
      "text/html": [
       "<div>\n",
       "<style scoped>\n",
       "    .dataframe tbody tr th:only-of-type {\n",
       "        vertical-align: middle;\n",
       "    }\n",
       "\n",
       "    .dataframe tbody tr th {\n",
       "        vertical-align: top;\n",
       "    }\n",
       "\n",
       "    .dataframe thead th {\n",
       "        text-align: right;\n",
       "    }\n",
       "</style>\n",
       "<table border=\"1\" class=\"dataframe\">\n",
       "  <thead>\n",
       "    <tr style=\"text-align: right;\">\n",
       "      <th></th>\n",
       "      <th>file_name</th>\n",
       "      <th>patch_name</th>\n",
       "      <th>vector</th>\n",
       "      <th>label</th>\n",
       "    </tr>\n",
       "  </thead>\n",
       "  <tbody>\n",
       "    <tr>\n",
       "      <th>0</th>\n",
       "      <td>BAL 1 Spray 2.svs</td>\n",
       "      <td>BAL 1 Spray 2_12409_2930.png</td>\n",
       "      <td>{'x1': 253, 'x2': 311, 'y1': 940, 'y2': 998}</td>\n",
       "      <td>Lymohozyten</td>\n",
       "    </tr>\n",
       "    <tr>\n",
       "      <th>1</th>\n",
       "      <td>BAL 1 Spray 2.svs</td>\n",
       "      <td>BAL 1 Spray 2_12409_3335.png</td>\n",
       "      <td>{'x1': -39, 'x2': 43, 'y1': 970, 'y2': 1052}</td>\n",
       "      <td>Makrophagen</td>\n",
       "    </tr>\n",
       "    <tr>\n",
       "      <th>2</th>\n",
       "      <td>BAL 1 Spray 2.svs</td>\n",
       "      <td>BAL 1 Spray 2_12409_3335.png</td>\n",
       "      <td>{'x1': 253, 'x2': 311, 'y1': 535, 'y2': 593}</td>\n",
       "      <td>Lymohozyten</td>\n",
       "    </tr>\n",
       "    <tr>\n",
       "      <th>3</th>\n",
       "      <td>BAL 1 Spray 2.svs</td>\n",
       "      <td>BAL 1 Spray 2_12409_3335.png</td>\n",
       "      <td>{'x1': 403, 'x2': 473, 'y1': 973, 'y2': 1043}</td>\n",
       "      <td>Neutrophile</td>\n",
       "    </tr>\n",
       "    <tr>\n",
       "      <th>4</th>\n",
       "      <td>BAL 1 Spray 2.svs</td>\n",
       "      <td>BAL 1 Spray 2_12409_3335.png</td>\n",
       "      <td>{'x1': 392, 'x2': 470, 'y1': 899, 'y2': 977}</td>\n",
       "      <td>Neutrophile</td>\n",
       "    </tr>\n",
       "    <tr>\n",
       "      <th>...</th>\n",
       "      <td>...</td>\n",
       "      <td>...</td>\n",
       "      <td>...</td>\n",
       "      <td>...</td>\n",
       "    </tr>\n",
       "    <tr>\n",
       "      <th>125029</th>\n",
       "      <td>BAL cent blue Luft 2.svs</td>\n",
       "      <td>BAL cent blue Luft 2_5157_15876.png</td>\n",
       "      <td>{'x1': 706, 'x2': 772, 'y1': 191, 'y2': 257}</td>\n",
       "      <td>Neutrophile</td>\n",
       "    </tr>\n",
       "    <tr>\n",
       "      <th>125030</th>\n",
       "      <td>BAL cent blue Luft 2.svs</td>\n",
       "      <td>BAL cent blue Luft 2_5157_15876.png</td>\n",
       "      <td>{'x1': 940, 'x2': 982, 'y1': 468, 'y2': 510}</td>\n",
       "      <td>Neutrophile</td>\n",
       "    </tr>\n",
       "    <tr>\n",
       "      <th>125031</th>\n",
       "      <td>BAL cent blue Luft 2.svs</td>\n",
       "      <td>BAL cent blue Luft 2_5157_15876.png</td>\n",
       "      <td>{'x1': 37, 'x2': 109, 'y1': 696, 'y2': 768}</td>\n",
       "      <td>Mastzellen</td>\n",
       "    </tr>\n",
       "    <tr>\n",
       "      <th>125032</th>\n",
       "      <td>BAL cent blue Luft 2.svs</td>\n",
       "      <td>BAL cent blue Luft 2_5157_15876.png</td>\n",
       "      <td>{'x1': 737, 'x2': 833, 'y1': 92, 'y2': 188}</td>\n",
       "      <td>Mastzellen</td>\n",
       "    </tr>\n",
       "    <tr>\n",
       "      <th>125033</th>\n",
       "      <td>BAL cent blue Luft 2.svs</td>\n",
       "      <td>BAL cent blue Luft 2_5157_15876.png</td>\n",
       "      <td>{'x1': 367, 'x2': 441, 'y1': 63, 'y2': 137}</td>\n",
       "      <td>Eosinophile</td>\n",
       "    </tr>\n",
       "  </tbody>\n",
       "</table>\n",
       "<p>125034 rows × 4 columns</p>\n",
       "</div>"
      ],
      "text/plain": [
       "                       file_name                           patch_name  \\\n",
       "0              BAL 1 Spray 2.svs         BAL 1 Spray 2_12409_2930.png   \n",
       "1              BAL 1 Spray 2.svs         BAL 1 Spray 2_12409_3335.png   \n",
       "2              BAL 1 Spray 2.svs         BAL 1 Spray 2_12409_3335.png   \n",
       "3              BAL 1 Spray 2.svs         BAL 1 Spray 2_12409_3335.png   \n",
       "4              BAL 1 Spray 2.svs         BAL 1 Spray 2_12409_3335.png   \n",
       "...                          ...                                  ...   \n",
       "125029  BAL cent blue Luft 2.svs  BAL cent blue Luft 2_5157_15876.png   \n",
       "125030  BAL cent blue Luft 2.svs  BAL cent blue Luft 2_5157_15876.png   \n",
       "125031  BAL cent blue Luft 2.svs  BAL cent blue Luft 2_5157_15876.png   \n",
       "125032  BAL cent blue Luft 2.svs  BAL cent blue Luft 2_5157_15876.png   \n",
       "125033  BAL cent blue Luft 2.svs  BAL cent blue Luft 2_5157_15876.png   \n",
       "\n",
       "                                               vector        label  \n",
       "0        {'x1': 253, 'x2': 311, 'y1': 940, 'y2': 998}  Lymohozyten  \n",
       "1        {'x1': -39, 'x2': 43, 'y1': 970, 'y2': 1052}  Makrophagen  \n",
       "2        {'x1': 253, 'x2': 311, 'y1': 535, 'y2': 593}  Lymohozyten  \n",
       "3       {'x1': 403, 'x2': 473, 'y1': 973, 'y2': 1043}  Neutrophile  \n",
       "4        {'x1': 392, 'x2': 470, 'y1': 899, 'y2': 977}  Neutrophile  \n",
       "...                                               ...          ...  \n",
       "125029   {'x1': 706, 'x2': 772, 'y1': 191, 'y2': 257}  Neutrophile  \n",
       "125030   {'x1': 940, 'x2': 982, 'y1': 468, 'y2': 510}  Neutrophile  \n",
       "125031    {'x1': 37, 'x2': 109, 'y1': 696, 'y2': 768}   Mastzellen  \n",
       "125032    {'x1': 737, 'x2': 833, 'y1': 92, 'y2': 188}   Mastzellen  \n",
       "125033    {'x1': 367, 'x2': 441, 'y1': 63, 'y2': 137}  Eosinophile  \n",
       "\n",
       "[125034 rows x 4 columns]"
      ]
     },
     "execution_count": 72,
     "metadata": {},
     "output_type": "execute_result"
    }
   ],
   "source": [
    "patch_size = 1024\n",
    "\n",
    "data = []\n",
    "for file_name in screening_modes:\n",
    "    \n",
    "    path = files[file_name]\n",
    "    slide = openslide.open_slide(str(path))\n",
    "    \n",
    "    image_annotations = annotations[annotations[\"image_name\"] == file_name]\n",
    "    screening = screening_modes[file_name]\n",
    "    \n",
    "    tiles = [tile for tile in screening[\"screening_tiles\"].values() if tile[\"Screened\"] == True]\n",
    "    \n",
    "    for tile in tqdm(tiles):\n",
    "        tile_center_x = int(tile[\"x_min\"] + (tile[\"x_max\"] - tile[\"x_min\"]) / 2)\n",
    "        tile_center_y = int(tile[\"y_min\"] + (tile[\"y_max\"] - tile[\"y_min\"]) / 2)\n",
    "        \n",
    "        x_min = tile_center_x - 512\n",
    "        y_min = tile_center_y - 512\n",
    "        \n",
    "        x_max = tile_center_x + 512\n",
    "        y_max = tile_center_y + 512\n",
    "        \n",
    "        tile_annotations = image_annotations[(image_annotations[\"center_x\"] > x_min) & (image_annotations[\"center_x\"] < x_max) \n",
    "                                             & (image_annotations[\"center_y\"] > y_min) & (image_annotations[\"center_y\"] < y_max)]\n",
    "        \n",
    "        if len(tile_annotations) > 0:\n",
    "            \n",
    "            patch_name = f\"{Path(file_name).stem}_{x_min}_{y_min}.png\"\n",
    "            \n",
    "            patch = np.array(slide.read_region(location=(x_min, y_min), level=0, size=(patch_size, patch_size)))[:, :, :3]\n",
    "                             \n",
    "            im_rgb = cv2.cvtColor(patch, cv2.COLOR_RGB2BGR)\n",
    "            cv2.imwrite(str(Path(\"../TrainPatches\") / patch_name), im_rgb)\n",
    "            \n",
    "            for label, vector in zip(tile_annotations[\"class\"], tile_annotations[\"vector\"]):\n",
    "                new_vector = {\n",
    "                    \"x1\": vector[\"x1\"] - x_min,\n",
    "                    \"x2\": vector[\"x2\"] - x_min,\n",
    "                    \"y1\": vector[\"y1\"] - y_min,\n",
    "                    \"y2\": vector[\"y2\"] - y_min\n",
    "                }\n",
    "                \n",
    "                data.append([file_name, patch_name, new_vector, label])\n",
    "                \n",
    "data = pd.DataFrame(data, columns=[\"file_name\", \"patch_name\",\"vector\", \"label\"])\n",
    "data"
   ]
  },
  {
   "cell_type": "code",
   "execution_count": 73,
   "metadata": {},
   "outputs": [],
   "source": [
    "with open('../TrainPatches/train_patches.pickle', 'wb') as handle:\n",
    "    pickle.dump(data, handle, protocol=pickle.HIGHEST_PROTOCOL)"
   ]
  },
  {
   "cell_type": "code",
   "execution_count": 55,
   "metadata": {},
   "outputs": [
    {
     "data": {
      "text/plain": [
       "1862"
      ]
     },
     "execution_count": 55,
     "metadata": {},
     "output_type": "execute_result"
    }
   ],
   "source": [
    "len(data[\"patch_name\"].unique())"
   ]
  },
  {
   "cell_type": "code",
   "execution_count": 74,
   "metadata": {},
   "outputs": [
    {
     "data": {
      "text/plain": [
       "445"
      ]
     },
     "execution_count": 74,
     "metadata": {},
     "output_type": "execute_result"
    }
   ],
   "source": [
    "len(data[data[\"file_name\"] == 'BAL Promyk Spray 4.svs'][\"patch_name\"].unique())"
   ]
  },
  {
   "cell_type": "code",
   "execution_count": 75,
   "metadata": {},
   "outputs": [
    {
     "data": {
      "text/plain": [
       "406"
      ]
     },
     "execution_count": 75,
     "metadata": {},
     "output_type": "execute_result"
    }
   ],
   "source": [
    "len(data[data[\"file_name\"] == 'BAL AIA Blickfang Luft.svs'][\"patch_name\"].unique())"
   ]
  },
  {
   "cell_type": "code",
   "execution_count": null,
   "metadata": {},
   "outputs": [],
   "source": []
  }
 ],
 "metadata": {
  "kernelspec": {
   "display_name": "Python 3",
   "language": "python",
   "name": "python3"
  },
  "language_info": {
   "codemirror_mode": {
    "name": "ipython",
    "version": 3
   },
   "file_extension": ".py",
   "mimetype": "text/x-python",
   "name": "python",
   "nbconvert_exporter": "python",
   "pygments_lexer": "ipython3",
   "version": "3.6.10"
  }
 },
 "nbformat": 4,
 "nbformat_minor": 4
}
